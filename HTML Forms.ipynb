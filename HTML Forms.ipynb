{
 "cells": [
  {
   "cell_type": "code",
   "execution_count": null,
   "metadata": {},
   "outputs": [],
   "source": [
    "<script>\n",
    "  function code_toggle() {\n",
    "    if (code_shown){\n",
    "      $('div.input').hide('500');\n",
    "      $('#toggleButton').val('Show Code')\n",
    "    } else {\n",
    "      $('div.input').show('500');\n",
    "      $('#toggleButton').val('Hide Code')\n",
    "    }\n",
    "    code_shown = !code_shown\n",
    "  }\n",
    "\n",
    "  $( document ).ready(function(){\n",
    "    code_shown=false;\n",
    "    $('div.input').hide()\n",
    "  });\n",
    "</script>\n",
    "<form action=\"javascript:code_toggle()\"><input type=\"submit\" id=\"toggleButton\" value=\"Show Code\"></form>"
   ]
  },
  {
   "cell_type": "markdown",
   "metadata": {},
   "source": [
    "# HTML Forms\n",
    "\n",
    "Html forms is allow the developer to create forms, and take information from audience."
   ]
  },
  {
   "cell_type": "markdown",
   "metadata": {},
   "source": [
    "in HTML Forms, in front-end programming we focus on getting how it get data fetch, however, the role of back-end dev will able to set up in fetch and store the data. \n",
    "\n",
    "* < section> <!-- this will help differentiate the mark up that happen in HTML -->\n",
    "* < fieldset> <!-- function of the fieldset is to manage certain in order -->\n",
    "*   < legend> Your contact information< /legend> <!-- the legend will provide info of your forms under fieldset form container-->\n",
    "*       < label for=\"name\"> Your name </label>  <!-- the label will help to justify on item that you want audience to fill in>\n",
    "*       < input type=\"text\" id=\"name\" name=\"name\"> <!-- input is function on how HTML will fetch the information, you can several tag to control the input of particular info. Plus, every input need to have unique id, so different programme language will fetch same data that you collab>\n",
    "* </ fieldset>\n",
    "* </ section>\n",
    "\n",
    "tag in the forms:\n",
    "\n",
    "type=\"text\" ; in this case we are collecting info which using text\n",
    "id=\"unique ID info\" ; in this every input that we desire to collect must be unique on one to another, so the programme will fetch the data correctly\n",
    "name=\"the label you want to use\" ; the name tags, help the programme specific data that we need to collect, in this case the programme will fetch what human will looks like, usually no number, and long.\n",
    "type=\"number\" ; the programme will collecting only number\n",
    "type=\"date\" ; the programme will collecting the date\n"
   ]
  },
  {
   "cell_type": "markdown",
   "metadata": {},
   "source": []
  }
 ],
 "metadata": {
  "language_info": {
   "name": "python"
  },
  "orig_nbformat": 4
 },
 "nbformat": 4,
 "nbformat_minor": 2
}
