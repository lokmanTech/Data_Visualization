{
 "cells": [
  {
   "cell_type": "markdown",
   "metadata": {},
   "source": [
    "# HTML Forms\n",
    "\n",
    "Html forms is allow the developer to create forms, and take information from audience. Forms play crucial role in web developments and online interaction. "
   ]
  },
  {
   "cell_type": "markdown",
   "metadata": {},
   "source": [
    "### Why its importants?\n",
    "\n",
    "1. <b>Data Collections:</b> Website forms allow businessesd and organizations to collect valueable data from their users. This data can include contact information, customer feedback, survey responses and more. This information is essential for understanding user preferences, improving products or services, and making informed decisions.\n",
    "2. <b>Lead Generations:</b> Forms are often used for lead generation purposes. By capturing user contact information, businesses can follow up with potential customers and convert them into paying clients. This is particularly important for sales and marketing efforts.\n",
    "3. <b>User Interactios:</b> Forms facilitate communication between website visitors and the website owner. Users can ask questions, request information, or provide feedback through forms, enhancing user engagement and creating a sense of interactivity on the website.\n",
    "4. <b>User Registraction:</b> Many websites require users to register or create accounts to access certain features or content. Registration forms are a common way to collect user information securely and provide personalized experiences.\n",
    "5. <b>E-commerce:</b>  In e-commerce, forms are used for various purposes, such as order placement, payment processing, and shipping information collection. These forms are essential for conducting online transactions securely.\n",
    "6. <b>Contact & Support:</b> Contact forms allow users to reach out to businesses or organizations easily. They provide a structured way for users to submit inquiries, report issues, or seek assistance.\n",
    "7. <b>Feedback & Surveys:</b>  Forms are an effective way to gather user feedback and conduct surveys. This helps businesses understand customer satisfaction, identify areas for improvement, and make data-driven decisions.\n",
    "8. <b>Data Validation:</b> Forms can include validation rules to ensure that users provide accurate and complete information. This helps reduce errors and ensures that the data collected is reliable.\n",
    "9. <b>Security:</b> Properly designed forms can enhance website security by preventing malicious activities like SQL injection and cross-site scripting (XSS) attacks. They can also incorporate CAPTCHA or reCAPTCHA to protect against automated bots.\n",
    "10. <b>User Experience:</b> Well-designed forms contribute to a positive user experience. A user-friendly form layout, clear instructions, and error messages make it easier for users to complete tasks and achieve their goals on the website.\n",
    "11. <b>Accessibility:</b> Ensuring that forms are accessible to all users, including those with disabilities, is a crucial aspect of web design. Accessible forms enhance inclusivity and compliance with accessibility standards.\n",
    "12. <b>Analytics & Metrics:</b> Website forms can be integrated with analytics tools to track user interactions and conversions. This data helps website owners measure the effectiveness of their forms and make improvements accordingly."
   ]
  },
  {
   "cell_type": "markdown",
   "metadata": {},
   "source": [
    "in HTML Forms, in front-end programming we focus on getting how it get data fetch, however, the role of back-end dev will able to set up in fetch and store the data. \n",
    "\n",
    "<section> <!-- this will help differentiate the mark up that happen in HTML -->\n",
    "    <fieldset> <!-- function of the fieldset is to manage certain in order -->\n",
    "        <legend> Your contact information </legend> <!-- the legend will provide info of your forms under fieldset for container-->\n",
    "            <form>\n",
    "                <label for=\"name\">Your Name</label>  <!-- the label will help to justify on item that you want audience to fill in-->\n",
    "                    <input type=\"text\" id=\"name\" name=\"name\"> <!-- input is function on how HTML will fetch the information, you can several tag to control the input of particular info. Plus, every input need to have unique id, so different programme language will fetch same data that you collab-->\n",
    "                <label for=\"phone\">Your Phone Number</label>\n",
    "                    <input type=\"number\" id=\"phone\" name=\"phone\">\n",
    "                <label for=\"email\">Your e-mail</label>\n",
    "                    <input type=\"email\" id=\"email\" name=\"email\">\n",
    "            </form>\n",
    "    </fieldset>\n",
    "    <fieldset>\n",
    "        \n",
    "    </fieldset>\n",
    "</section>\n",
    "\n",
    "tag in the forms:\n",
    "\n",
    "type=\"text\" ; in this case we are collecting info which using text\n",
    "id=\"unique ID info\" ; in this every input that we desire to collect must be unique on one to another, so the programme will fetch the data correctly\n",
    "name=\"the label you want to use\" ; the name tags, help the programme specific data that we need to collect, in this case the programme will fetch what human will looks like, usually no number, and long.\n",
    "type=\"number\" ; the programme will collecting only number\n",
    "type=\"date\" ; the programme will collecting the date\n"
   ]
  },
  {
   "cell_type": "markdown",
   "metadata": {},
   "source": []
  }
 ],
 "metadata": {
  "language_info": {
   "name": "python"
  },
  "orig_nbformat": 4
 },
 "nbformat": 4,
 "nbformat_minor": 2
}
