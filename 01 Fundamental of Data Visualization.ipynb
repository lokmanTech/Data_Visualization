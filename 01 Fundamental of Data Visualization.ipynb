{
 "cells": [
  {
   "cell_type": "markdown",
   "metadata": {},
   "source": [
    "# Fundmental of Data Visualization\n",
    "\n",
    "Data visualization in the context of business science refers to the use of graphical and visual representations of date to help organizations make informed decisions, gain insights, and communicate information effectively. Business scientist, also known as data scientist or analyst in a business setting, use data visualization techniques to:\n",
    "\n",
    "1. <b>Communicate Insight:</b> Data visualization can make complex data more understandable and accessible to a wide range of stakeholders, including non-technical decision-makers. Charts, graphs and dashboards can simplify the presentation of data and help convey key insights.\n",
    "2. <b>Identify Trends and Patterns:</b> Data visualizations allow business scientists to spot trendsm patterns and anomalies in data moe easily than through raw data analysis. This helps in understanding customer behavior, market trends and otehr critical factors affectign the business.\n",
    "3. <b>Support Decision-Making:</b> Visualizations can provide decision-maker with the informatio they need to make informed choices. For example, a visaul representation of sales data can help executives determine which products or regions are performing well and which need attention.\n",
    "4. <b>Data Exploration:</b> Visualization tools and techniques enable business scientists to explore data interactively. They can quickly create different visualizations to understand the data from various angles, which can lead to new insights.\n",
    "5. <b>Storytelling:</b> Data visualizations are often used to tell a data-driven story. They can be part of presentations or reports that explain the significance of the data, the trends observed, and the implications for the business.\n",
    "6. <b>Monitoring Key Metrics:</b> Dashboards with real-time or near real-time data visualizations are invaluable for businesses. They allow for contniuous monitoring of key performance indicators (KPIs) and can trigger alerts when certain thresholds are crossed.\n",
    "7. <b>Predictive Analytics:</b> Visualization can also be used in predictive analytics models to show the likely outcomes of different scenarios. For example, a financial model may use visualizations to demonstrate the potential impact of different investment decisions.\n",
    "\n",
    "Common types of data visualization used in business science include bar charts, line charts, scatter plots, pie charts, heatmaps, histograms, and more advanced techniques like Sankey diagrams, tree maps, and network graphs.\n",
    "\n",
    "Tools like Tablaeu, Power BI, Pyhton libraries like Matplotlib and Seaborn and R packages are commonly used to create these visualizations. Effective data visualization is a crucial part of the business scientist's toolkit, as it helps organizations leverage their data to make data-driven decisions and gain a competitive advantage.\n",
    "\n",
    "Here area some examples of how data visualizations can be used in business science:\n",
    "* A marketing scientist might use data visualization to track the performance of different marketing campaigns and identify which campaigns are most effective.\n",
    "* A sales scientist might use data visualizatin to analyze customer data and identify trends in customer behavior. This information can be used to develop more targeted sales strategies and improve customer retention.\n",
    "* A financial scientist might use data visualizations to track financial performance and identify areas where costs can be reduced or revenue can be increased.\n",
    "* A risk scientist might use data visualization to identify and assess risks to the business.crey\n",
    "\n",
    "## Sample Case\n",
    "### Global Sales of different types of smartphones in 2022"
   ]
  },
  {
   "cell_type": "code",
   "execution_count": 3,
   "metadata": {},
   "outputs": [
    {
     "ename": "ModuleNotFoundError",
     "evalue": "No module named 'matplotlib'",
     "output_type": "error",
     "traceback": [
      "\u001b[1;31m---------------------------------------------------------------------------\u001b[0m",
      "\u001b[1;31mModuleNotFoundError\u001b[0m                       Traceback (most recent call last)",
      "\u001b[1;32mc:\\Users\\User\\OneDrive - Alexander Poh Architect\\APA PROJECTS\\00 LOKMAN'S PERSONAL DOCS\\09 GITHUB PROJECTS\\04_Data_Visualization\\01 Fundamental of Data Visualization.ipynb Cell 2\u001b[0m line \u001b[0;36m2\n\u001b[0;32m      <a href='vscode-notebook-cell:/c%3A/Users/User/OneDrive%20-%20Alexander%20Poh%20Architect/APA%20PROJECTS/00%20LOKMAN%27S%20PERSONAL%20DOCS/09%20GITHUB%20PROJECTS/04_Data_Visualization/01%20Fundamental%20of%20Data%20Visualization.ipynb#W3sZmlsZQ%3D%3D?line=0'>1</a>\u001b[0m \u001b[39mimport\u001b[39;00m \u001b[39mnumpy\u001b[39;00m \u001b[39mas\u001b[39;00m \u001b[39mnp\u001b[39;00m\n\u001b[1;32m----> <a href='vscode-notebook-cell:/c%3A/Users/User/OneDrive%20-%20Alexander%20Poh%20Architect/APA%20PROJECTS/00%20LOKMAN%27S%20PERSONAL%20DOCS/09%20GITHUB%20PROJECTS/04_Data_Visualization/01%20Fundamental%20of%20Data%20Visualization.ipynb#W3sZmlsZQ%3D%3D?line=1'>2</a>\u001b[0m \u001b[39mimport\u001b[39;00m \u001b[39mmatplotlib\u001b[39;00m\u001b[39m.\u001b[39;00m\u001b[39mpyplot\u001b[39;00m \u001b[39mas\u001b[39;00m \u001b[39mplt\u001b[39;00m\n\u001b[0;32m      <a href='vscode-notebook-cell:/c%3A/Users/User/OneDrive%20-%20Alexander%20Poh%20Architect/APA%20PROJECTS/00%20LOKMAN%27S%20PERSONAL%20DOCS/09%20GITHUB%20PROJECTS/04_Data_Visualization/01%20Fundamental%20of%20Data%20Visualization.ipynb#W3sZmlsZQ%3D%3D?line=3'>4</a>\u001b[0m \u001b[39m# Create a list of smartphone vendors\u001b[39;00m\n\u001b[0;32m      <a href='vscode-notebook-cell:/c%3A/Users/User/OneDrive%20-%20Alexander%20Poh%20Architect/APA%20PROJECTS/00%20LOKMAN%27S%20PERSONAL%20DOCS/09%20GITHUB%20PROJECTS/04_Data_Visualization/01%20Fundamental%20of%20Data%20Visualization.ipynb#W3sZmlsZQ%3D%3D?line=4'>5</a>\u001b[0m smartphone_vendors \u001b[39m=\u001b[39m [\u001b[39m'\u001b[39m\u001b[39mSamsung\u001b[39m\u001b[39m'\u001b[39m, \u001b[39m'\u001b[39m\u001b[39mApple\u001b[39m\u001b[39m'\u001b[39m, \u001b[39m'\u001b[39m\u001b[39mXiaomi\u001b[39m\u001b[39m'\u001b[39m, \u001b[39m'\u001b[39m\u001b[39mOPPO\u001b[39m\u001b[39m'\u001b[39m, \u001b[39m'\u001b[39m\u001b[39mVivo\u001b[39m\u001b[39m'\u001b[39m]\n",
      "\u001b[1;31mModuleNotFoundError\u001b[0m: No module named 'matplotlib'"
     ]
    }
   ],
   "source": [
    "import numpy as np\n",
    "import matplotlib.pyplot as plt\n",
    "\n",
    "# Create a list of smartphone vendors\n",
    "smartphone_vendors = ['Samsung', 'Apple', 'Xiaomi', 'OPPO', 'Vivo']\n",
    "\n",
    "# Create a list of global sales for each smartphone vendor\n",
    "global_sales = [20.8, 18.4, 13.8, 10.3, 9.5]\n",
    "\n",
    "# Create a bar chart \n",
    "plt.bar(smartphone_vendors, global_sales)\n",
    "\n",
    "# Set the title and axis labels\n",
    "plt.title ('Global Smartphone Sales in 2022')\n",
    "plt.xlabel ('Smartphone Vendor')\n",
    "plt.ylabel ('Global Sales (%)')\n",
    "\n",
    "# Show the plot\n",
    "plt.show()"
   ]
  }
 ],
 "metadata": {
  "kernelspec": {
   "display_name": "Python 3",
   "language": "python",
   "name": "python3"
  },
  "language_info": {
   "codemirror_mode": {
    "name": "ipython",
    "version": 3
   },
   "file_extension": ".py",
   "mimetype": "text/x-python",
   "name": "python",
   "nbconvert_exporter": "python",
   "pygments_lexer": "ipython3",
   "version": "3.11.5"
  },
  "orig_nbformat": 4
 },
 "nbformat": 4,
 "nbformat_minor": 2
}
