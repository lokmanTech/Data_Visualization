{
 "cells": [
  {
   "cell_type": "markdown",
   "metadata": {},
   "source": [
    "# Website Embeds & GitHub Pages\n",
    "\n",
    "In this course, I will learn mor on how to leverage embedded web fonts and Google Mas into your web pages and how to host a website for free on GitHub Pages. Then, practice your new skills by creating a portfolio website. \n",
    "\n",
    "### Learning Outline\n",
    "\n",
    "<ol>\n",
    "    <strong>Embeds</strong>\n",
    "    <li><b>Web Fonts:</b> Discussing on resource for externally loading fonts.\n",
    "    <li><b>Google Fonts:</b> Showcases another widely known font source, and demonstrates how to insert a font into the form.\n",
    "    <li><b>Web Font Performance:</b> Instructor explain why it's important to limit the number of imported fonts on a webpage.\n",
    "    <li><b>Embedding Google Maps:</b> Learn how to add an embedded map into a webpage.\n",
    "    <li><b>Additional Embed Types:</b> discusses ways videos and other media can be added to a page using embed codes from an external host.\n",
    "    <strong>GitHub Pages</b>\n",
    "    <li><b>GitHub Setup:</b> Walks through creating a GitHub account and downloading GitHub Desktop, a GUI for GitHub.\n",
    "    <li><b>Repository Setup:</b> Learn to create GitHub repository and their form files to it, and view their pages in the browser.\n",
    "    <li><b>Troubleshooting:</b> Learn more on several common issues that may came up during the process from the previous lessons.\n",
    "    <li><b>Review & Project Preview:</b> Summarize what we have learn and know that GitHub is one place to push our own portfolio.\n",
    "    <strong>Portfolio</strong>\n",
    "    <li><b>Portfolio Exercise & Wrap-up:</b> wrapping up the courses\n",
    "    <li><b>Portfolio Example Solutions:</b> shows the few example from other candidates."
   ]
  }
 ],
 "metadata": {
  "language_info": {
   "name": "python"
  },
  "orig_nbformat": 4
 },
 "nbformat": 4,
 "nbformat_minor": 2
}
