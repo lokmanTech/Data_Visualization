{
 "cells": [
  {
   "cell_type": "markdown",
   "metadata": {},
   "source": [
    "# Calculator Project: HTML & CSS\n",
    "\n",
    "Learn how to create the structure and appearance for the HTML and CSS of the calculator on iOS devices in the first part of the calculator exercise.\n",
    "\n",
    "### Table of Contents\n",
    "\n",
    "<ol>\n",
    "    <strong>Calculator: HTML & CSS</strong>\n",
    "    <li><b>Calculator Setup:</b> Introduced the calculator exercise and opens the project files from the zip files.</li>\n",
    "    <li><b>Adding Buttons:</b> Codes rows and a group of buttons into the calculator.</li>\n",
    "    <li><b>Finishing Rows Exercise:</b> We are instructed to add the rest of the number button rows into the calculator as an exercise.</li>\n",
    "    <li><b>Adding Math Buttons:</b> We added the math buttons into the calculator.</li>\n",
    "    <li><b>Spanning Multiple Columns:</b> We codes the buttons that span more than one column, demonstrating how to add multiple classes to an element.</li>\n",
    "    <li><b>Styling the Calculator:</b> Begins to add styling rules for the calculator, starting with the background and screen.</li>\n",
    "    <li><b>Button Layout:</b> Uses flexbox to create the button layout and then gives students an exercise of setting button background color.</li>\n",
    "    <li><b>Button Color & Size:</b> Modifies the color and size of the buttons to make them look better and fill space more adequately</li>\n",
    "    <li><b>Hover State & Flex-Basis:</b> Jen makes use of hover and active states and uses flex-basis to allow buttons to span multiple columns.</li>\n",
    "    <li><b>Calculator Q&A:</b> We are discussed class value that take advantage of style rules from multiple classes.</li>\n",
    "    <li><b>Last-Child Selector:</b> We were introduces last-child, a handy pseudo-class that selects the last child of the parent.</li>\n",
    "    <li><b>HTML & CSS Final Thought:</b> We were discussed on some final thoughts about going further with HTML & CSS.</li>\n",
    "</ol>\n"
   ]
  }
 ],
 "metadata": {
  "language_info": {
   "name": "python"
  },
  "orig_nbformat": 4
 },
 "nbformat": 4,
 "nbformat_minor": 2
}
