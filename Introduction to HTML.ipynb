{
 "cells": [
  {
   "cell_type": "markdown",
   "metadata": {},
   "source": [
    "# Introduction to HTML\n",
    "\n",
    "HTML stands for Hypertext Markup Language, is a fundamental language used for creating and structuring web pages. It provides a standardized way to organize and format contect on the World Wide Web, makin it accessible to web browsers and, in turn, to internet users like you.\n",
    "\n",
    "Here's brief overview of HTML:\n",
    "1. <b>Markup Language:</b> HTML is a markup language, not a programming language. It uses tags to define the structure and presentation of content on a web page.\n",
    "2. <b>Document Structure:</b> HTML documents are organized into a hierarchy. They typically consist of two main sections:\n",
    "    * ```<head>```: This section contains metadata about the documents, such as the title of the page and links to external resources like stylesheets and scripts.\n",
    "    * ```<body>```: This section contains the visible content of the web page, including text, images, links and other media.\n",
    "3. <b>Tags:</b> HTML elements are defined using tags enclosed in agle bracket, eg., ```<tagname>```. Tags come in pairs: an opening tag and a closing tag. The closing tag is the same as the opening tag but with a forward slash before the tag name. For example:\n",
    "\n",
    "* ```<p>```: Represents a paragraph of text.\n",
    "* ```<a>```: Defines hyperlinks.\n",
    "* ```<img>```: Embeds images.\n",
    "* ```<h1> ~ <h6>```: Headings of differents levels.\n",
    "\n",
    "4. <b>Attributes:</b> Many HTML tags have attributes that provide additional information or settings. For instance, the ```<a>``` tag has an <b>href</b> attribute to specify the URL of the link, and the ```<img>``` tag has <b>src</b> attribute to specify the image source.\n",
    "5. <b>Nesting:</b> HTML elements can be nested inside other elements, creating a hierarchical structure. For example, you can place a paragraph ```<p>``` element inside a division ```<div>``` element.\n",
    "6. <b>Whitespace:</b> Extra spaces and line breaks within your HTML code are typically ignored by web browsers. They are used for better code readibility and organization.\n",
    "\n",
    "HTML is the foundation of web development, and learning it is an essential first step for anyone interested in creating web pages or web applications. It serves as the building blocks upon which you can add styles (with CSS) and interactivity (with JavaScript) to create rich and engaging web experiences.\n",
    "\n",
    "\n",
    "HTML is made up of elements, which are defined by start and end tags. The content of an element is placed between the start and end tags. For example, the following HTML code creates a heading:\n",
    "\n",
    "Here is a simple of an HTML documents\n",
    "```html\n",
    "<!DOCTYPE html>\n",
    "<html>\n",
    "    <head>\n",
    "        <title>My HTML Code</title>\n",
    "    </head>\n",
    "\n",
    "    <body>\n",
    "        <h1>Hello, HTML!</h1>\n",
    "        <p>This is a paragraph</p>\n",
    "    </body>\n",
    "</html>```\n",
    "\n",
    "When this document is opened in a web browser will display the following:\n",
    "\n"
   ]
  },
  {
   "cell_type": "markdown",
   "metadata": {},
   "source": [
    "<title>My HTML Code</title>\n",
    "<fieldset>\n",
    "<h1>Hello, HTML!</h1>\n",
    "<p>This is a paragaph</p>\n",
    "</fieldset>"
   ]
  },
  {
   "cell_type": "markdown",
   "metadata": {},
   "source": [
    "HTML is a relative easy language to learn, and there are many resources available online to help you get started. Once you have learned the basics of HTML, you will be able to create your own web pages and start publishing your content on the web.\n",
    "\n",
    "Here are some of the benefits of learning HTML:\n",
    "1. HTML is the foundation of the web, so it is an essential skill for anyone who wants to work in web development.\n",
    "2. HTML is a relatively easy language to learn, even for beginners.\n",
    "3. HTML is a very versatile language, and it can be used to create all sorts of web content, from simple websites to complex web applications.\n",
    "4. There are many resources available online to help you learn HTML.\n"
   ]
  },
  {
   "cell_type": "markdown",
   "metadata": {},
   "source": [
    "Source: \n",
    "* https://njkhanh.com/web-development\n",
    "* Frondendmaster bootcamp \"Introduction to HTML\" by Jen Kramer https://frontendmaster.com\n"
   ]
  }
 ],
 "metadata": {
  "kernelspec": {
   "display_name": "Python 3",
   "language": "python",
   "name": "python3"
  },
  "language_info": {
   "codemirror_mode": {
    "name": "ipython",
    "version": 3
   },
   "file_extension": ".py",
   "mimetype": "text/x-python",
   "name": "python",
   "nbconvert_exporter": "python",
   "pygments_lexer": "ipython3",
   "version": "3.11.5"
  },
  "orig_nbformat": 4
 },
 "nbformat": 4,
 "nbformat_minor": 2
}
