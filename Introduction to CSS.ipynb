{
 "cells": [
  {
   "cell_type": "markdown",
   "metadata": {},
   "source": [
    "# Introduction to CSS\n",
    "\n",
    "CSS, which stands for \"Cascading Style Sheets\", is a stylesheet language used in web development to describe the presentation and formatting of web documents, typically written in HTML or XML. CSS allows web developers and designers to control the visual aspects of web page, such as the layout, colours, font, spacing, and more without altering the underlying content or structure. CSS is used in conjuction with HTML, which is the language used to create the structure of a web page. HTML defines the content of a web page, such as headings, pragraphs, images and links.\n",
    "\n",
    "Here are some key points about CSS\n",
    "1. <b>Separation of Concerns:</b> CSS promote the separation of content (HTML or XML) and presentation (styling). This separation makes it easier to maintain and update a website since changes to the design can be made in the CSS file without modifying the content.\n",
    "2. <b> Selectors and Rules:</b> CSS works based on selectors and rules. Selectors are pattern that mathc elements in the HTML document, and rules define how those elements should be styled. FOr example:\n",
    "\n",
    "```css\n",
    "/* Selector Rule*/\n",
    "blue-text {\n",
    "    color: blue;\n",
    "    font-size: 48px;\n",
    "}```\n",
    "\n",
    "\n"
   ]
  },
  {
   "cell_type": "markdown",
   "metadata": {},
   "source": [
    "\n",
    "<h1 style=\"color: blue; font-size: 48px\">Hello, there!</h1>"
   ]
  },
  {
   "cell_type": "markdown",
   "metadata": {},
   "source": [
    "Example shows that <b>'h1'</b> selector target all <b>```<h1>```</b> elements, setting their text colour to blue and their font size to 48 pixels."
   ]
  },
  {
   "cell_type": "markdown",
   "metadata": {},
   "source": [
    "3. <b>Cascading:</b> The \"Cascading\" in CSS refers to the order in which styles are applied an how conflicts are resolved. Styles can be inherited from parent elements, overridden by more specific rules or imported from external stylesheets\n",
    "4. <b>Specificity:</b> Specificity is a system in CSS that determines which style rule takes precedence when multiple conflicting rules target the same element. It's important to understand specificity to ensure that styles are applied as intended.\n",
    "5. <b>External, internal & Inline CSS:</b> CSS can be applied in different ways:\n",
    "    * External CSS: Styles are stored in a separated .css file and linked to the HTML document using the ```<link>``` element. This method is recommend for larger websites as it promotes maintainability and reuse.\n",
    "    * Internal CSS: Style are defined within the HTML documents ```<style>``` element in the document's ```<head>``` section.\n",
    "    * Inline CSS: Styles are applied directly to individual HTML elements using the 'style' attribute.\n",
    "6. <b>Responsive Web Design:</b> CSS is essential for creating responsive web designs that adapt to various screen sizes and devices. Media queries in CSS allow developers to apply different styles based on factors like screen width and orientation.\n",
    "7. <b>Cross-Browser Compatibility:</b> CSS rules are interpreted and rendered by web browsers. While modern browsers generally follow CSS standards. there can be variations in how they handle certain properties or selectors. Web developers often need to test and adjust their styles to ensure compatibility across different browsers.\n",
    "8. <b>Reusability:</b> You can define CSS styles once and then reuse them throughout your website. This saves you time and effort, and it also makes it easier to create a consistent look and feel for your entire site.\n",
    "9. <b>Accessibility:</b> CSS can be used to create responsive web pages more accessible to users with disabilities, For example: you can use CSS to increrase the font size of your text or to provide high-contrast color schemes.\n",
    "\n",
    "Some of interesting things you can play around with CSS are:\n",
    "\n",
    "1. Change the font family\n",
    "2. Change the font size\n",
    "3. Change the font colour\n",
    "4. Add a border to an image\n",
    "5. Center an element on the page\n",
    "6. ... many more ...\n",
    "\n",
    "In summary, CSS is a critical technology for web development that enables the separation of content and presentation, allowing web designers and developers to create visually appealing and responsine websites. It plays a fundamental role in defining the look and feel of the web pages."
   ]
  },
  {
   "cell_type": "markdown",
   "metadata": {},
   "source": [
    "Source: \n",
    "* The World Wide Web Consortium (W3C) CSS documentation: https://www.w3.org/Style/CSS\n",
    "* The CSS Tricks website: https://css-tricks.com\n",
    "* The Mozilla Developer Network (MDN) CSS documentation: https://developer.mozilla.org/en-US/docs/Web/CSS\n",
    "* The book \"CSS: The Definitive Guide\" by Eric Meyer\n",
    "* Frondendmaster bootcamp \"Introduction to CSS\" by Jen Kramer https://frontendmaster.com"
   ]
  },
  {
   "cell_type": "markdown",
   "metadata": {},
   "source": []
  }
 ],
 "metadata": {
  "language_info": {
   "name": "python"
  },
  "orig_nbformat": 4
 },
 "nbformat": 4,
 "nbformat_minor": 2
}
