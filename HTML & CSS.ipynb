{
 "cells": [
  {
   "cell_type": "code",
   "execution_count": null,
   "metadata": {},
   "outputs": [],
   "source": [
    "<script>\n",
    "  function code_toggle() {\n",
    "    if (code_shown){\n",
    "      $('div.input').hide('500');\n",
    "      $('#toggleButton').val('Show Code')\n",
    "    } else {\n",
    "      $('div.input').show('500');\n",
    "      $('#toggleButton').val('Hide Code')\n",
    "    }\n",
    "    code_shown = !code_shown\n",
    "  }\n",
    "\n",
    "  $( document ).ready(function(){\n",
    "    code_shown=false;\n",
    "    $('div.input').hide()\n",
    "  });\n",
    "</script>\n",
    "<form action=\"javascript:code_toggle()\"><input type=\"submit\" id=\"toggleButton\" value=\"Show Code\"></form>"
   ]
  },
  {
   "cell_type": "markdown",
   "metadata": {},
   "source": [
    "# HTML\n",
    "\n",
    "### Hypertext Markup Language\n",
    "\n",
    "Earlier, I've been testing out on improvising my personal portfolio website, in this context. We all know that, visualization is bigger part of our life.\n",
    "Any successful project will take form as visualization and that form consider as result. for example: we take athelete, they do the training daily, however, that was not their\n",
    "end goal. Their goal is to be winner of any particular championship they involve in. Personally, for me, I would love to see my product visualize correctly without and confusion or misleading.\n",
    "\n",
    "Currently I'm attending class from frontendmaster.com which in that platform I'm learning the fundamental of programming which using HTML as front-end for visualization.\n",
    "\n",
    "The notes from the course as listed:\n",
    "* 1. Introduction\n",
    "* 2. VS Code Setup\n",
    "* 3. Creating a folder\n",
    "* 4. Creating a HTML\n",
    "* 5. Creating Content\n",
    "* 6. Adding < p>Paragraph</ p>  & < li>List</ li>\n",
    "* 7. < ol>Ordered List Exercise & Solution</ ol>\n",
    "* 8. < a> href=\"https://creating_a_link.com\"< /a>\n",
    "* 9. < img source=\"../images\">< /img>\n",
    "\n",
    "refer sample of the html body"
   ]
  },
  {
   "cell_type": "code",
   "execution_count": null,
   "metadata": {},
   "outputs": [],
   "source": [
    "html\n",
    "<!DOCTYPE html>\n",
    "<html lang=\"en\">\n",
    "<head>\n",
    "    <meta charset=\"UTF-8\">\n",
    "    <meta name=\"viewport\" content=\"width=device-width, initial-scale=1.0\">\n",
    "    <title>Webpage</title>\n",
    "    \n",
    "</head>\n",
    "<body> here is where you insert your content\n",
    "</body>\n",
    "</html>"
   ]
  },
  {
   "cell_type": "markdown",
   "metadata": {},
   "source": [
    "# CSS\n",
    "\n",
    "### Cascading Style Sheets \n",
    "\n",
    "CSS is a part where we can adjust the style of the HTML page, CSS play important roles in enhancing the webpage accordingly, if not, your webpage definitely will become lousy with text only. And no one will not understand what you are babbling about on the html page. CSS also can be view online for inspection, so we need to write careful wording. this CSS file and HTML file usually will be in separated file, the CSS file will linked to HTML in order to communicate to each other. below is one example:"
   ]
  },
  {
   "cell_type": "code",
   "execution_count": null,
   "metadata": {},
   "outputs": [],
   "source": [
    "html\n",
    "<!DOCTYPE html>\n",
    "<html lang=\"en\">\n",
    "<head>\n",
    "    <meta charset=\"UTF-8\">\n",
    "    <meta name=\"viewport\" content=\"width=device-width, initial-scale=1.0\">\n",
    "    <title>Webpage</title>\n",
    "\n",
    "    <link href=\"css/style.css\" rel=\"stylesheet\">\n",
    "    \n",
    "</head>\n",
    "<body>\n",
    "</body>\n",
    "</html>"
   ]
  },
  {
   "cell_type": "code",
   "execution_count": null,
   "metadata": {},
   "outputs": [],
   "source": [
    "css\n",
    "body {\n",
    "    fort-family: Century Gothic, Times New Roman;\n",
    "}"
   ]
  }
 ],
 "metadata": {
  "language_info": {
   "name": "python"
  },
  "orig_nbformat": 4
 },
 "nbformat": 4,
 "nbformat_minor": 2
}
