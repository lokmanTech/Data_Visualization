{
 "cells": [
  {
   "cell_type": "code",
   "execution_count": null,
   "metadata": {},
   "outputs": [],
   "source": [
    "<script>\n",
    "  function code_toggle() {\n",
    "    if (code_shown){\n",
    "      $('div.input').hide('500');\n",
    "      $('#toggleButton').val('Show Code')\n",
    "    } else {\n",
    "      $('div.input').show('500');\n",
    "      $('#toggleButton').val('Hide Code')\n",
    "    }\n",
    "    code_shown = !code_shown\n",
    "  }\n",
    "\n",
    "  $( document ).ready(function(){\n",
    "    code_shown=false;\n",
    "    $('div.input').hide()\n",
    "  });\n",
    "</script>\n",
    "<form action=\"javascript:code_toggle()\"><input type=\"submit\" id=\"toggleButton\" value=\"Show Code\"></form>"
   ]
  },
  {
   "cell_type": "markdown",
   "metadata": {},
   "source": [
    "# HTML\n",
    "\n",
    "### Hypertext Markup Language\n",
    "\n",
    "Earlier, I've been testing out on improvising my personal portfolio website, in this context. We all know that, visualization is bigger part of our life.\n",
    "Any successful project will take form as visualization and that form consider as result. for example: we take athelete, they do the training daily, however, that was not their\n",
    "end goal. Their goal is to be winner of any particular championship they involve in. Personally, for me, I would love to see my product visualize correctly without and confusion or misleading.\n",
    "\n",
    "Currently I'm attending class from frontendmaster.com which in that platform I'm learning the fundamental of programming which using HTML as front-end for visualization.\n",
    "\n",
    "The notes from the course as listed:\n",
    "* 1. Introduction\n",
    "* 2. VS Code Setup\n",
    "* 3. Creating a folder\n",
    "* 4. Creating a HTML\n",
    "* 5. Creating Content\n",
    "* 6. Adding < p>Paragraph</ p>  & < li>List</ li>\n",
    "* 7. < ol>Ordered List Exercise & Solution</ ol>\n",
    "* 8. < a> href=\"https://creating_a_link.com\"< /a>\n",
    "* 9. < img source=\"../images\">< /img>\n",
    "\n",
    "refer sample of the html body"
   ]
  },
  {
   "cell_type": "markdown",
   "metadata": {},
   "source": [
    "html\n",
    "<!DOCTYPE html>\n",
    "<html lang=\"en\">\n",
    "<head>\n",
    "    <meta charset=\"UTF-8\">\n",
    "    <meta name=\"viewport\" content=\"width=device-width, initial-scale=1.0\">\n",
    "    <title>Webpage</title>\n",
    "    \n",
    "</head>\n",
    "<body> here is where you insert your content\n",
    "</body>\n",
    "</html>"
   ]
  },
  {
   "cell_type": "markdown",
   "metadata": {},
   "source": [
    "## HTML Validator\n",
    "\n",
    "https://validator.w3.org/"
   ]
  },
  {
   "cell_type": "markdown",
   "metadata": {},
   "source": [
    "# CSS\n",
    "\n",
    "### Cascading Style Sheets \n",
    "\n",
    "CSS is a part where we can adjust the style of the HTML page, CSS play important roles in enhancing the webpage accordingly, if not, your webpage definitely will become lousy with text only. And no one will not understand what you are babbling about on the html page. CSS also can be view online for inspection, so we need to write careful wording. this CSS file and HTML file usually will be in separated file, the CSS file will linked to HTML in order to communicate to each other. below is one example:"
   ]
  },
  {
   "cell_type": "markdown",
   "metadata": {},
   "source": [
    "\n",
    "    <title>Webpage</title>\n",
    "    <link href=\"css/style.css\" rel=\"stylesheet\">\n",
    "\n",
    "\n",
    "the css style sheet usually place below your webpage title"
   ]
  },
  {
   "cell_type": "markdown",
   "metadata": {},
   "source": [
    "css\n",
    "body {\n",
    "    font-family: Century Gothic, Times New Roman;\n",
    "    text-size: 3rem;\n",
    "}"
   ]
  },
  {
   "cell_type": "markdown",
   "metadata": {},
   "source": [
    "From the code above, we know that font is use Century Gothic & Times New Roman. The size of the font usually will be use, rem which means style relatives 'm' that is size established by browser that font size by default. 1 rem equal to 16 px."
   ]
  },
  {
   "cell_type": "markdown",
   "metadata": {},
   "source": [
    "text {\n",
    "    color: red;\n",
    "}\n",
    "\n",
    "text {\n",
    "    color: blue;\n",
    "}"
   ]
  },
  {
   "cell_type": "markdown",
   "metadata": {},
   "source": [
    "Cascade means the later of information will overwrite the earlier version, based on the code above, the code is redundant, however, the system will use the later version in the codeline, which in this case the text colour will be in blue.\n",
    "\n",
    "next, removing the style of the font, which we take for example the link, http://www.google.com, the link will automatically have underline and in blue colour, however, we can remove this default style to none by simply:"
   ]
  },
  {
   "cell_type": "markdown",
   "metadata": {},
   "source": [
    "text {\n",
    "    text-decoration: none;\n",
    "}"
   ]
  },
  {
   "cell_type": "markdown",
   "metadata": {},
   "source": [
    "## Intro to codepen.io\n",
    "\n",
    "this website allows you to share your html, css & js coding works, without any hosting plan & domain to share your works."
   ]
  },
  {
   "cell_type": "markdown",
   "metadata": {},
   "source": [
    "### Ways to include CSS in your documents\n",
    "\n",
    "the have internal or external style sheet. \n",
    "\n",
    "usually we use external style sheet, since it all connects to hundred pages of website to one style sheet. this method will not redundant the works.\n",
    "\n",
    "External style sheet\n",
    "yourstylesheet.css, and inside the document you can insert the css code there.\n",
    "\n",
    "Internal style sheet, will be place inside your webpage the code will seen as below:\n",
    "<style> a {\n",
    "    color: pink;\n",
    "} </style>\n",
    "\n"
   ]
  },
  {
   "cell_type": "markdown",
   "metadata": {},
   "source": [
    "### Way to find colour pallete with Adobe color CC\n",
    "\n",
    "https://color.adobe.com/explore this will show you color pallete\n",
    "\n",
    "https://www.colorzilla.com/ to install this and find color code that have in the webpage by simply click the drop icon at extension icon\n",
    "\n"
   ]
  },
  {
   "cell_type": "markdown",
   "metadata": {},
   "source": [
    "### CSS Validator\n",
    "\n",
    "https://jigsaw.w3.org/css-validator/"
   ]
  },
  {
   "cell_type": "markdown",
   "metadata": {},
   "source": [
    "### BOX Model\n",
    "\n",
    "they have margin, border, padding\n",
    "\n",
    "* 1. margin is the space between content\n",
    "* 2. border is the border of the box of the content\n",
    "* 3. padding is the gap between content and border"
   ]
  },
  {
   "cell_type": "markdown",
   "metadata": {},
   "source": [
    "### DIV Tags\n",
    "\n",
    "* 1. tags that make boxs and division\n",
    "* 2. it just generic box "
   ]
  }
 ],
 "metadata": {
  "language_info": {
   "name": "python"
  },
  "orig_nbformat": 4
 },
 "nbformat": 4,
 "nbformat_minor": 2
}
