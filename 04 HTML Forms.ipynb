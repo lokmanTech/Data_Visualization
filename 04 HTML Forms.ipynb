{
 "cells": [
  {
   "cell_type": "markdown",
   "metadata": {},
   "source": [
    "# HTML Forms\n",
    "\n",
    "Html forms is allow the developer to create forms, and take information from audience. Forms play crucial role in web developments and online interaction. "
   ]
  },
  {
   "cell_type": "markdown",
   "metadata": {},
   "source": [
    "### Why its importants?\n",
    "\n",
    "1. <b>Data Collections:</b> Website forms allow businessesd and organizations to collect valueable data from their users. This data can include contact information, customer feedback, survey responses and more. This information is essential for understanding user preferences, improving products or services, and making informed decisions.\n",
    "2. <b>Lead Generations:</b> Forms are often used for lead generation purposes. By capturing user contact information, businesses can follow up with potential customers and convert them into paying clients. This is particularly important for sales and marketing efforts.\n",
    "3. <b>User Interactios:</b> Forms facilitate communication between website visitors and the website owner. Users can ask questions, request information, or provide feedback through forms, enhancing user engagement and creating a sense of interactivity on the website.\n",
    "4. <b>User Registraction:</b> Many websites require users to register or create accounts to access certain features or content. Registration forms are a common way to collect user information securely and provide personalized experiences.\n",
    "5. <b>E-commerce:</b>  In e-commerce, forms are used for various purposes, such as order placement, payment processing, and shipping information collection. These forms are essential for conducting online transactions securely.\n",
    "6. <b>Contact & Support:</b> Contact forms allow users to reach out to businesses or organizations easily. They provide a structured way for users to submit inquiries, report issues, or seek assistance.\n",
    "7. <b>Feedback & Surveys:</b>  Forms are an effective way to gather user feedback and conduct surveys. This helps businesses understand customer satisfaction, identify areas for improvement, and make data-driven decisions.\n",
    "8. <b>Data Validation:</b> Forms can include validation rules to ensure that users provide accurate and complete information. This helps reduce errors and ensures that the data collected is reliable.\n",
    "9. <b>Security:</b> Properly designed forms can enhance website security by preventing malicious activities like SQL injection and cross-site scripting (XSS) attacks. They can also incorporate CAPTCHA or reCAPTCHA to protect against automated bots.\n",
    "10. <b>User Experience:</b> Well-designed forms contribute to a positive user experience. A user-friendly form layout, clear instructions, and error messages make it easier for users to complete tasks and achieve their goals on the website.\n",
    "11. <b>Accessibility:</b> Ensuring that forms are accessible to all users, including those with disabilities, is a crucial aspect of web design. Accessible forms enhance inclusivity and compliance with accessibility standards.\n",
    "12. <b>Analytics & Metrics:</b> Website forms can be integrated with analytics tools to track user interactions and conversions. This data helps website owners measure the effectiveness of their forms and make improvements accordingly."
   ]
  },
  {
   "cell_type": "markdown",
   "metadata": {},
   "source": [
    "<fieldset>\n",
    "    <legend><h1>Front End Master bootcamp</h1></legend>\n",
    "        <strong>Content of learning curve</strong>\n",
    "        <ul>\n",
    "            <strong>Forms Basics</strong>\n",
    "            <li><b>Forms Setup</b>We are learning more into depth on HTML forms, creating forms by instructing students how to retrieve the template files on GitHub, opent the files in VSCode and modify VSCode's auto close settings.</li>\n",
    "            <li><b>Form Tag</b> Adding a form tag to the HTML file and places an input tag with the type \"text\" inside of the form.</li>\n",
    "            <li><b>Labels & Inputs</b> After discussing form accessibility, adding a label tag and explains how the label's for attribute the input's ID and the input's name attribute are related.</li>\n",
    "            <li><b>Labels and inputs</b> After discussing form accessibility, we learn more on adds a label tag and explains how the label's for attribute, the input's ID and the input's name attribute are related</li>\n",
    "            <strong>Form Input Types</strong>\n",
    "            <li><b>Input tyes phone & email</b> We were introduces on the input elements of type \"tel\" and \"email\", which are used to let the user enter a telephone number or email address.<li>\n",
    "            <li><b>Fieldset & Legend</b> We learned using the fieldset and legend HTML tags to group form elements.</li>\n",
    "            <li><b>Input Types Date & Numbers</b> We were instructed to add an input to collect a date value</li>\n",
    "            <li><b>Input Range</b> Demonstrates how to assign a min and max range range to a \"number\" type input.</li>\n",
    "            <li><b>Radio Button</b> We were instructed to create multiple buttons where only one can be selected at a time.</li>\n",
    "            <li><b>Radio Button Exercise</b> Students are instructed to complete an exercise using radio buttons.</li>\n",
    "            <li><b>Radio Button Solution</b> We goes through the solution for the radio buttons exercise.</li>\n",
    "            <li><b>Select List Input</b> We were demonstrated how to code select list input into the forms.</li>\n",
    "            <li><b>Input Name & Value</b> We learn more on name and value do within input elements.</li>\n",
    "            <li><b>Selected Attributes</b> We were being explained on how to configure an option or radio button value to be preselected using the selected attribute.</li>\n",
    "            <li><b>Textarea</b> Learning on inserting a textarea tag into the form so the user can record multiple lines of text.</li>\n",
    "            <li><b>Placeholder</b> We were demonstrated on how to put placeholder text within an input field.</li>\n",
    "            <li><b>Checkbox</b> Codes a checbox field into the forms.</li>\n",
    "            <li><b>Input Q&A</b> As we go through there been session for Q&A on attribute, placeholder text, and the phone number field.</li>\n",
    "            <strong>Form Submission</strong>\n",
    "            <li><b>Submit Button</b> Coded a submit button that will connect the backend to the information that was given to the form.</li>\n",
    "            <li><b>Submitting the Form</b> After disscussing what students have learned about forms so far, Jen discusses how to use form actions, form methods and hidden input fiels to enable form submission.</li>\n",
    "            <li><b>Submitting with Javascript</b> Jen demonstrate how to link the form to a JavaScript file which performs error-checking on form values before it allows the form to be submitted.</li>\n",
    "            <li><b>Debugging Submit Issues</b> We go through over various things students can look for wheen debugging why their form is not submitting.</li>\n",
    "            <strong>Form Styling</strong>\n",
    "            <li><b>Adding a Background Image</b> We were being demonstrates on how to use an image in a folder to create a background for the form page.</li>\n",
    "            <li><b>Form & Fieldset Styling</b> We continues to develop the form by adding CSS rules to enhance spacing and border appearance.</li>\n",
    "            <li><b>Label & Input Display</b> Jen questions students about what display value the labels should have and the result is much better looking form.</li>\n",
    "            <li><b>Textarea & Select Styling</b> jen applies styles to the textarea and select form elements.</li>\n",
    "            <li><b>Button Hover State</b> To make the submit button react to a user hovering over it, Jen adds a hover state to the submit button.</li>\n",
    "            <li><b>Input Spacing</b> Jen gives the inputs some breathing room.</li>\n",
    "            <li><b>Exclude Selector</b> Jen demonstrates how to exclude certain tags from being styled by adding the not selector and rounds input corners.</li>\n",
    "            <li><b>Textarea & Select List Spacing</b> Jen gives the labels some breathing room.</li>\n",
    "            <li><b>Further Exercise</b> Jen bring attention to exercise from the course notes for students who would like to do more.</li>\n",
    "\n",
    "\n",
    "</fieldset>"
   ]
  },
  {
   "cell_type": "markdown",
   "metadata": {},
   "source": [
    "in HTML Forms, in front-end programming we focus on getting how it get data fetch, however, the role of back-end dev will able to set up in fetch and store the data. \n",
    "\n",
    "```html```\n",
    "<section> <!-- this will help differentiate the mark up that happen in HTML -->\n",
    "    <fieldset> <!-- function of the fieldset is to manage certain in order -->\n",
    "        <legend> Your contact information </legend> <!-- the legend will provide info of your forms under fieldset for container-->\n",
    "            <form>\n",
    "                <label for=\"name\">Your Name</label>  <!-- the label will help to justify on item that you want audience to fill in-->\n",
    "                    <input type=\"text\" id=\"name\" name=\"name\"> <!-- input is function on how HTML will fetch the information, you can several tag to control the input of particular info. Plus, every input need to have unique id, so different programme language will fetch same data that you collab-->\n",
    "                <label for=\"phone\">Your Phone Number</label>\n",
    "                    <input type=\"number\" id=\"phone\" name=\"phone\">\n",
    "                <label for=\"email\">Your e-mail</label>\n",
    "                    <input type=\"email\" id=\"email\" name=\"email\">\n",
    "                <label for=\"date\">Date</label>\n",
    "                    <input type=\"date\" id=\"date\" name=\"date\">\n",
    "            </form>\n",
    "    </fieldset>\n",
    "    <fieldset>\n",
    "        \n",
    "    </fieldset>\n",
    "</section>\n",
    "\n",
    "tag in the forms:\n",
    "\n",
    "type=\"text\" ; in this case we are collecting info which using text\n",
    "id=\"unique ID info\" ; in this every input that we desire to collect must be unique on one to another, so the programme will fetch the data correctly\n",
    "name=\"the label you want to use\" ; the name tags, help the programme specific data that we need to collect, in this case the programme will fetch what human will looks like, usually no number, and long.\n",
    "type=\"number\" ; the programme will collecting only number\n",
    "type=\"date\" ; the programme will collecting the date\n"
   ]
  },
  {
   "cell_type": "code",
   "execution_count": 9,
   "metadata": {
    "vscode": {
     "languageId": "html"
    }
   },
   "outputs": [
    {
     "data": {
      "text/html": [
       "<!DOCTYPE html>\n",
       "<html>\n",
       "<head>\n",
       "    <title>My First Web Page</title>\n",
       "</head>\n",
       "<body>\n",
       "<section> <!-- this will help differentiate the mark up that happen in HTML -->\n",
       "    <fieldset> <!-- function of the fieldset is to manage certain in order -->\n",
       "        <legend> Your contact information </legend> <!-- the legend will provide info of your forms under fieldset for container-->\n",
       "            <form>\n",
       "                <label for=\"name\">Your Name</label>  <!-- the label will help to justify on item that you want audience to fill in-->\n",
       "                    <input type=\"text\" id=\"name\" name=\"name\"> <!-- input is function on how HTML will fetch the information, you can several tag to control the input of particular info. Plus, every input need to have unique id, so different programme language will fetch same data that you collab-->\n",
       "                <label for=\"phone\">Your Phone Number</label>\n",
       "                    <input type=\"number\" id=\"phone\" name=\"phone\">\n",
       "                <label for=\"email\">Your e-mail</label>\n",
       "                    <input type=\"email\" id=\"email\" name=\"email\">\n",
       "                <label for=\"date\">Date</label>\n",
       "                    <input type=\"date\" id=\"date\" name=\"date\">\n",
       "            </form>\n",
       "    </fieldset>\n",
       "    <fieldset>\n",
       "        \n",
       "    </fieldset>\n",
       "</section>\n",
       "<footer>\n",
       "</footer>\n",
       "</body>\n",
       "</html>\n"
      ],
      "text/plain": [
       "<IPython.core.display.HTML object>"
      ]
     },
     "metadata": {},
     "output_type": "display_data"
    }
   ],
   "source": [
    "%%html\n",
    "<!DOCTYPE html>\n",
    "<html>\n",
    "<head>\n",
    "    <title>My First Web Page</title>\n",
    "</head>\n",
    "<body>\n",
    "<section> <!-- this will help differentiate the mark up that happen in HTML -->\n",
    "    <fieldset> <!-- function of the fieldset is to manage certain in order -->\n",
    "        <legend> Your contact information </legend> <!-- the legend will provide info of your forms under fieldset for container-->\n",
    "            <form>\n",
    "                <label for=\"name\">Your Name</label>  <!-- the label will help to justify on item that you want audience to fill in-->\n",
    "                    <input type=\"text\" id=\"name\" name=\"name\"> <!-- input is function on how HTML will fetch the information, you can several tag to control the input of particular info. Plus, every input need to have unique id, so different programme language will fetch same data that you collab-->\n",
    "                <label for=\"phone\">Your Phone Number</label>\n",
    "                    <input type=\"number\" id=\"phone\" name=\"phone\">\n",
    "                <label for=\"email\">Your e-mail</label>\n",
    "                    <input type=\"email\" id=\"email\" name=\"email\">\n",
    "                <label for=\"date\">Date</label>\n",
    "                    <input type=\"date\" id=\"date\" name=\"date\">\n",
    "            </form>\n",
    "    </fieldset>\n",
    "    <fieldset>\n",
    "        \n",
    "    </fieldset>\n",
    "</section>\n",
    "<footer>\n",
    "</footer>\n",
    "</body>\n",
    "</html>"
   ]
  },
  {
   "cell_type": "code",
   "execution_count": null,
   "metadata": {
    "vscode": {
     "languageId": "html"
    }
   },
   "outputs": [],
   "source": []
  }
 ],
 "metadata": {
  "kernelspec": {
   "display_name": "Python 3",
   "language": "python",
   "name": "python3"
  },
  "language_info": {
   "codemirror_mode": {
    "name": "ipython",
    "version": 3
   },
   "file_extension": ".py",
   "mimetype": "text/x-python",
   "name": "python",
   "nbconvert_exporter": "python",
   "pygments_lexer": "ipython3",
   "version": "3.11.5"
  },
  "orig_nbformat": 4
 },
 "nbformat": 4,
 "nbformat_minor": 2
}
